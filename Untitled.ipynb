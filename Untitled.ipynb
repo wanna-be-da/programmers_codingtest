{
 "cells": [
  {
   "cell_type": "code",
   "execution_count": 1,
   "metadata": {},
   "outputs": [],
   "source": [
    "import heapq"
   ]
  },
  {
   "cell_type": "code",
   "execution_count": 15,
   "metadata": {},
   "outputs": [],
   "source": [
    "a = [500,2,34,1,2,5,12,655,1,2,5]"
   ]
  },
  {
   "cell_type": "code",
   "execution_count": 16,
   "metadata": {},
   "outputs": [],
   "source": [
    "heapq.heapify(a)"
   ]
  },
  {
   "cell_type": "code",
   "execution_count": 17,
   "metadata": {},
   "outputs": [
    {
     "data": {
      "text/plain": [
       "[1, 1, 5, 2, 2, 34, 12, 655, 500, 2, 5]"
      ]
     },
     "execution_count": 17,
     "metadata": {},
     "output_type": "execute_result"
    }
   ],
   "source": [
    "a"
   ]
  },
  {
   "cell_type": "code",
   "execution_count": 18,
   "metadata": {},
   "outputs": [
    {
     "data": {
      "text/plain": [
       "1"
      ]
     },
     "execution_count": 18,
     "metadata": {},
     "output_type": "execute_result"
    }
   ],
   "source": [
    "heapq.heappop(a)"
   ]
  },
  {
   "cell_type": "code",
   "execution_count": 19,
   "metadata": {},
   "outputs": [
    {
     "data": {
      "text/plain": [
       "[1, 2, 5, 2, 2, 34, 12, 655, 500, 5]"
      ]
     },
     "execution_count": 19,
     "metadata": {},
     "output_type": "execute_result"
    }
   ],
   "source": [
    "a"
   ]
  },
  {
   "cell_type": "code",
   "execution_count": null,
   "metadata": {},
   "outputs": [],
   "source": [
    "def solution"
   ]
  },
  {
   "cell_type": "code",
   "execution_count": 20,
   "metadata": {},
   "outputs": [],
   "source": [
    "b = [1]\n",
    "heapq.heapify(b)"
   ]
  },
  {
   "cell_type": "code",
   "execution_count": null,
   "metadata": {},
   "outputs": [],
   "source": [
    "def solution(n, lost, reserve):\n",
    "    answer = 0\n",
    "    \n",
    "    #n전체학생\n",
    "    #체육복을 도난당한 학생들의 번호가 담긴 배열 lost\n",
    "    #여벌의 체육복을 가져온 학생들의 번호가 담긴 배열 reserve\n",
    "    \n",
    "    b"
   ]
  },
  {
   "cell_type": "code",
   "execution_count": 86,
   "metadata": {},
   "outputs": [],
   "source": [
    "n = 6\n",
    "times = [7, 10]"
   ]
  },
  {
   "cell_type": "code",
   "execution_count": 87,
   "metadata": {},
   "outputs": [],
   "source": [
    "def solution(n, times):\n",
    "    answer = 0\n",
    "    \n",
    "    #times를 정렬\n",
    "    times.sort()\n",
    "    \n",
    "    #[심사시간, 맡은시간]의 행렬 세팅\n",
    "    sol = [[times[0], n*times[0]]]\n",
    "    for time in times[1:]:\n",
    "        sol.append([time, 0])\n",
    "    max = n*times[0]\n",
    "    max_index = 0\n",
    "    \n",
    "    #while문 돌려가며 개선\n",
    "    while True:\n",
    "        changed = False\n",
    "        for i in range(len(times)): \n",
    "            if i != max_index and sol[i][0] + sol[i][1] < max: #이렇게 찾지 말고 이진탐색을 해야함\n",
    "                if max - sol[max_index][0] >= sol[i][0] + sol[i][1]:\n",
    "                    max -= sol[max_index][0]\n",
    "                    sol[i][1] += sol[i][0]\n",
    "                else:\n",
    "                    sol[i][1] += sol[i][1]\n",
    "                    max = sol[i][1]\n",
    "                    sol[max_index][1] -= sol[max_index][0]\n",
    "                    max_index = i\n",
    "                changed = True\n",
    "                break\n",
    "        if not changed:\n",
    "            break\n",
    "            \n",
    "    return max"
   ]
  },
  {
   "cell_type": "code",
   "execution_count": 91,
   "metadata": {},
   "outputs": [
    {
     "data": {
      "text/plain": [
       "6"
      ]
     },
     "execution_count": 91,
     "metadata": {},
     "output_type": "execute_result"
    }
   ],
   "source": [
    "solution(n, times)"
   ]
  },
  {
   "cell_type": "code",
   "execution_count": 90,
   "metadata": {},
   "outputs": [],
   "source": [
    "n = 9\n",
    "times  = [1,5,6,12,3,9,7]"
   ]
  },
  {
   "cell_type": "code",
   "execution_count": 89,
   "metadata": {},
   "outputs": [
    {
     "data": {
      "text/plain": [
       "[7, 10]"
      ]
     },
     "execution_count": 89,
     "metadata": {},
     "output_type": "execute_result"
    }
   ],
   "source": [
    "sorted(times)"
   ]
  },
  {
   "cell_type": "code",
   "execution_count": 67,
   "metadata": {},
   "outputs": [],
   "source": [
    "citations = [5,5,5,5]"
   ]
  },
  {
   "cell_type": "code",
   "execution_count": 33,
   "metadata": {},
   "outputs": [],
   "source": [
    "def solution(citations):\n",
    "    answer = 0\n",
    "    length = len(citations)\n",
    "    citations.sort()\n",
    "    for i, c in enumerate(citations):\n",
    "        if length-i >= c:\n",
    "            answer = c\n",
    "        else:\n",
    "            return answer"
   ]
  },
  {
   "cell_type": "code",
   "execution_count": 65,
   "metadata": {},
   "outputs": [],
   "source": [
    "def solution(citations):\n",
    "    answer = 0\n",
    "    length = len(citations)\n",
    "    citations.sort()\n",
    "    temp = 0\n",
    "    point = 0\n",
    "    while True:\n",
    "        for index in range(point,len(citations)):\n",
    "            if citations[index] < temp:\n",
    "                point += 1\n",
    "            else:\n",
    "                break\n",
    "        \n",
    "        if length - point >= temp:\n",
    "            temp += 1\n",
    "        else:\n",
    "            return temp - 1\n",
    "\n",
    "    \n",
    "        \n",
    "    "
   ]
  },
  {
   "cell_type": "code",
   "execution_count": 66,
   "metadata": {},
   "outputs": [
    {
     "data": {
      "text/plain": [
       "4"
      ]
     },
     "execution_count": 66,
     "metadata": {},
     "output_type": "execute_result"
    }
   ],
   "source": [
    "solution(citations)"
   ]
  },
  {
   "cell_type": "code",
   "execution_count": 115,
   "metadata": {},
   "outputs": [],
   "source": [
    "def solution(phone_book):\n",
    "    answer = True\n",
    "    phone_book.sort(key=len, reverse=False)\n",
    "    print(phone_book)\n",
    "    \n",
    "    set = {phone_book[0]}\n",
    "    \n",
    "    for phone in phone_book[1:]: \n",
    "        for i in range(len(phone)):\n",
    "            if phone[:i] in set:\n",
    "                print(phone[:i])\n",
    "                print(set)\n",
    "                return False\n",
    "        set.add(phone)\n",
    "            \n",
    "    return answer"
   ]
  },
  {
   "cell_type": "code",
   "execution_count": 116,
   "metadata": {},
   "outputs": [
    {
     "name": "stdout",
     "output_type": "stream",
     "text": [
      "['12', '88', '123', '567', '1235']\n",
      "{'12'}\n",
      "12\n",
      "{'12', '88'}\n"
     ]
    },
    {
     "data": {
      "text/plain": [
       "False"
      ]
     },
     "execution_count": 116,
     "metadata": {},
     "output_type": "execute_result"
    }
   ],
   "source": [
    "solution([\"12\",\"123\",\"1235\",\"567\",\"88\"])"
   ]
  }
 ],
 "metadata": {
  "kernelspec": {
   "display_name": "Python 3",
   "language": "python",
   "name": "python3"
  },
  "language_info": {
   "codemirror_mode": {
    "name": "ipython",
    "version": 3
   },
   "file_extension": ".py",
   "mimetype": "text/x-python",
   "name": "python",
   "nbconvert_exporter": "python",
   "pygments_lexer": "ipython3",
   "version": "3.7.6"
  }
 },
 "nbformat": 4,
 "nbformat_minor": 4
}
